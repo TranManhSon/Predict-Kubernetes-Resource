{
 "cells": [
  {
   "cell_type": "markdown",
   "id": "507c9ba3-bc05-48c8-b1fb-860a3a93ce43",
   "metadata": {},
   "source": [
    "# Import library"
   ]
  },
  {
   "cell_type": "code",
   "execution_count": null,
   "id": "96558d6d-6f3b-400e-9634-2090e27c7c21",
   "metadata": {},
   "outputs": [],
   "source": [
    "import pandas as pd\n",
    "import numpy as np\n",
    "from sklearn.preprocessing import MinMaxScaler\n",
    "from sklearn.preprocessing import LabelEncoder\n",
    "from sklearn.model_selection import train_test_split\n",
    "from sklearn.preprocessing import StandardScaler\n",
    "from tensorflow.keras.models import Sequential\n",
    "from tensorflow.keras.layers import Dense\n",
    "from tensorflow.keras.preprocessing.sequence import TimeseriesGenerator\n",
    "from tensorflow.keras.optimizers import Adam\n",
    "from scikeras.wrappers import KerasRegressor\n",
    "from sklearn.model_selection import GridSearchCV\n",
    "from tensorflow.keras.models import Sequential\n",
    "from sklearn.metrics import mean_absolute_error, mean_squared_error\n",
    "import math\n",
    "import matplotlib.pyplot as plt\n",
    "import joblib\n",
    "import os\n",
    "import pickle"
   ]
  },
  {
   "cell_type": "markdown",
   "id": "0a6cc289-889d-434b-a56d-9540e2006747",
   "metadata": {},
   "source": [
    "# Preprocesssing data"
   ]
  },
  {
   "cell_type": "markdown",
   "id": "2d5e638e-bdf2-45b1-8597-d3724fa9d432",
   "metadata": {
    "jp-MarkdownHeadingCollapsed": true
   },
   "source": [
    "## Read data to dataframe"
   ]
  },
  {
   "cell_type": "code",
   "execution_count": null,
   "id": "08fd1ed2-92e8-4d94-af31-79d1310b3570",
   "metadata": {},
   "outputs": [],
   "source": [
    "output_file_path_final = 'service_metrics.xlsx'\n",
    "df = pd.read_excel(output_file_path_final)"
   ]
  },
  {
   "cell_type": "code",
   "execution_count": null,
   "id": "d59b84b3-cc50-4c2f-bb52-161b632d2fce",
   "metadata": {},
   "outputs": [],
   "source": [
    "print(df.head())"
   ]
  },
  {
   "cell_type": "markdown",
   "id": "86d8117f-e8af-4b8d-810b-cbbd96864c30",
   "metadata": {
    "jp-MarkdownHeadingCollapsed": true
   },
   "source": [
    "## Label and create lookback"
   ]
  },
  {
   "cell_type": "code",
   "execution_count": null,
   "id": "6e315208-33de-4833-9373-51d9e20b51d9",
   "metadata": {},
   "outputs": [],
   "source": [
    "# Mapping Service Label -> Label\n",
    "service_mapping = {\n",
    "    \"emailservice\": 1,\n",
    "    \"checkoutservice\": 2,\n",
    "    \"recommendationservice\": 3,\n",
    "    \"frontend\": 4,\n",
    "    \"paymentservice\": 5,\n",
    "    \"productcatalogservice\": 6,\n",
    "    \"cartservice\": 7,\n",
    "    \"redis-cart\": 8,\n",
    "    \"currencyservice\": 9,\n",
    "    \"shippingservice\": 10,\n",
    "    \"adservice\": 11,\n",
    "}\n",
    "\n",
    "# Attach label\n",
    "df['Service Label Number'] = df['Service Label'].map(service_mapping)\n",
    "\n",
    "def prepare_dataframe(df, n_steps):\n",
    "    dataframes = []\n",
    "    # group by label\n",
    "    for label, group in df.groupby('Service Label Number'):\n",
    "        # group by timestamp\n",
    "        group = group.sort_values('Timestamp')\n",
    "        group.set_index('Timestamp', inplace=True)\n",
    "\n",
    "        # Create lockback cols\n",
    "        for i in range(1, n_steps + 1):\n",
    "            group[f'Close(t-{i})'] = group['Total CPU (m)'].shift(i)\n",
    "\n",
    "        # delete NaN value by shift\n",
    "        group.dropna(inplace=True)\n",
    "        dataframes.append(group)\n",
    "\n",
    "    return pd.concat(dataframes)\n",
    "\n",
    "# Set loockback value\n",
    "lookback = 5\n",
    "shifted_df = prepare_dataframe(df, lookback)"
   ]
  },
  {
   "cell_type": "markdown",
   "id": "1b7d25d1-78c6-4f88-a4c4-43e395a59720",
   "metadata": {
    "jp-MarkdownHeadingCollapsed": true
   },
   "source": [
    "## Save data to new_file"
   ]
  },
  {
   "cell_type": "code",
   "execution_count": null,
   "id": "61a6a236-5414-4e6a-b814-541ba2ae02be",
   "metadata": {},
   "outputs": [],
   "source": [
    "# List required cols\n",
    "required_columns = ['Timestamp', 'Service Label Number', 'Total CPU (m)', 'Close(t-1)', 'Close(t-2)', 'Close(t-3)', 'Close(t-4)', 'Close(t-5)', 'Pod Count']\n",
    "\n",
    "# Get cols form DataFrame\n",
    "final_df = shifted_df.reset_index()[required_columns]\n",
    "\n",
    "# Change name of cols\n",
    "final_df.columns = ['Timestamp', 'Label', 'CPU(t)', 'CPU(t-1)', 'CPU(t-2)', 'CPU(t-3)', 'CPU(t-4)', 'CPU(t-5)', 'Current Pods']\n",
    "\n",
    "# Save file to xlsx\n",
    "df_sorted = final_df.sort_values(by='Timestamp', ascending=True).reset_index(drop=True)\n",
    "output_file_path_final = 'final_service_metrics.xlsx'\n",
    "df_sorted.to_excel(output_file_path_final, index=False)"
   ]
  },
  {
   "cell_type": "markdown",
   "id": "096c590b-c4d7-4c97-8bfa-4442fcaa1a4c",
   "metadata": {
    "jp-MarkdownHeadingCollapsed": true
   },
   "source": [
    "## Read new data to new dataframe"
   ]
  },
  {
   "cell_type": "code",
   "execution_count": null,
   "id": "8842dec8-9df2-45f8-bb1f-c65d047a28f8",
   "metadata": {},
   "outputs": [],
   "source": [
    "output_file_path_final = '/content/drive/MyDrive/KLTN_2024/Dataset/service_metrics/final_service_metrics.xlsx'\n",
    "new_df = pd.read_excel(output_file_path_final)"
   ]
  },
  {
   "cell_type": "markdown",
   "id": "80def058-ead7-4513-a6ef-cd44926379d6",
   "metadata": {},
   "source": [
    "## Feature/Target and splitdata"
   ]
  },
  {
   "cell_type": "code",
   "execution_count": null,
   "id": "31696417-cb59-4685-9771-6953a2151585",
   "metadata": {},
   "outputs": [],
   "source": [
    "new_df.set_index(['Timestamp', 'Label'], inplace=True)\n",
    "\n",
    "# X and y\n",
    "X = new_df[['CPU(t-1)', 'CPU(t-2)', 'CPU(t-3)', 'CPU(t-4)', 'CPU(t-5)']]\n",
    "y = new_df['CPU(t)']\n",
    "\n",
    "# split train/test\n",
    "X_train, X_test, y_train, y_test = train_test_split(X, y, test_size=0.2, shuffle=False)\n",
    "\n",
    "# Standardize data\n",
    "scaler = StandardScaler()\n",
    "X_train = scaler.fit_transform(X_train)\n",
    "X_test = scaler.transform(X_test)"
   ]
  },
  {
   "cell_type": "markdown",
   "id": "44c599d5-bd15-4247-9d37-7b8d2979db1f",
   "metadata": {},
   "source": [
    "## Save scaler"
   ]
  },
  {
   "cell_type": "code",
   "execution_count": null,
   "id": "475f97eb-dd9b-4dba-8152-8809dd7c49de",
   "metadata": {},
   "outputs": [],
   "source": [
    "joblib.dump(scaler, 'data_scaler.pkl')"
   ]
  },
  {
   "cell_type": "markdown",
   "id": "d3099967-5107-4ce3-8316-1a9a72510b48",
   "metadata": {},
   "source": [
    "## Define model ANN"
   ]
  },
  {
   "cell_type": "code",
   "execution_count": null,
   "id": "ef23b8c4-a02e-4c84-b59d-3548f0fc5309",
   "metadata": {},
   "outputs": [],
   "source": [
    "# Hàm xây dựng mô hình ANN\n",
    "def build_ann_model(hidden_units, learning_rate):\n",
    "    model = Sequential([\n",
    "        Dense(hidden_units, input_dim=X_train.shape[1], activation='relu'),\n",
    "        Dense(hidden_units // 2, activation='relu'),\n",
    "        Dense(1)  # Output layer\n",
    "    ])\n",
    "    model.compile(optimizer=Adam(learning_rate=learning_rate), loss='mse', metrics=['mae'])\n",
    "    return model"
   ]
  },
  {
   "cell_type": "markdown",
   "id": "1e7bc216-88a3-4c8d-8b50-272abc7f3b3e",
   "metadata": {},
   "source": [
    "## Tuning model"
   ]
  },
  {
   "cell_type": "code",
   "execution_count": null,
   "id": "8a56454b-ce98-41be-b846-8d88151300d3",
   "metadata": {},
   "outputs": [],
   "source": [
    "# Tạo đường dẫn lưu model tốt nhất\n",
    "os.makedirs(\"best_model\", exist_ok=True)\n",
    "model_path = \"best_model/best_ann_model.h5\"\n",
    "\n",
    "# GridSearchCV parameters\n",
    "param_grid_ann = {\n",
    "    'hidden_units': [32, 64, 128],\n",
    "    'learning_rate': [0.01, 0.001],\n",
    "    'batch_size': [32, 64],\n",
    "    'epochs': [50]\n",
    "}\n",
    "\n",
    "# Wrapper for GridSearchCV\n",
    "model_ann = KerasRegressor(build_fn=build_ann_model, verbose=1)\n",
    "\n",
    "# GridSearchCV\n",
    "grid_ann = GridSearchCV(estimator=model_ann, param_grid=param_grid_ann, scoring='neg_mean_absolute_error', cv=3, verbose=0)\n",
    "grid_ann.fit(X_train, y_train)\n",
    "\n",
    "# Find best param\n",
    "best_params = grid_ann.best_params_\n",
    "best_score = -grid_ann.best_score_\n",
    "print(f\"Best ANN Params: {best_params}\")\n",
    "print(f\"Best ANN Score: {best_score}\")"
   ]
  },
  {
   "cell_type": "markdown",
   "id": "08363730-8341-4a9d-bf2b-824add1e3271",
   "metadata": {},
   "source": [
    "## Save best_model"
   ]
  },
  {
   "cell_type": "code",
   "execution_count": null,
   "id": "1025e500-dbb2-4dbe-8f94-2d99b2ee7c2d",
   "metadata": {},
   "outputs": [],
   "source": [
    "# Lưu mô hình tốt nhất sau GridSearch\n",
    "best_model = grid_ann.best_estimator_.model_\n",
    "best_model.save(model_path)\n",
    "print(f\"Best model saved to {model_path}\")"
   ]
  },
  {
   "cell_type": "markdown",
   "id": "2a608ac4-6cbe-43d6-a8ab-83bfe1d11bf4",
   "metadata": {},
   "source": [
    "## Train"
   ]
  },
  {
   "cell_type": "code",
   "execution_count": null,
   "id": "a4abec9c-d60d-4001-9315-41f604148b2a",
   "metadata": {},
   "outputs": [],
   "source": [
    "history_ann = best_model.fit(\n",
    "    X_train,\n",
    "    y_train,\n",
    "    epochs=best_params['epochs'],\n",
    "    batch_size=best_params['batch_size'],\n",
    "    validation_data=(X_test, y_test),\n",
    "    verbose=1,\n",
    ")"
   ]
  },
  {
   "cell_type": "markdown",
   "id": "1e6bce69-b33c-495e-8217-48538b5b422d",
   "metadata": {},
   "source": [
    "## Evaluate"
   ]
  },
  {
   "cell_type": "code",
   "execution_count": null,
   "id": "e9464f8b-11d3-403a-81f8-1fc8d4240bd9",
   "metadata": {},
   "outputs": [],
   "source": [
    "# Evaluate\n",
    "loss, mae = best_model.evaluate(X_test, y_test, verbose=0)\n",
    "print(f\"Test MAE: {mae}\")\n",
    "\n",
    "# Trực quan hóa kết quả\n",
    "import matplotlib.pyplot as plt\n",
    "plt.plot(history_ann.history['mae'], label='Train MAE')\n",
    "plt.plot(history_ann.history['val_mae'], label='Validation MAE')\n",
    "plt.xlabel('Epochs')\n",
    "plt.ylabel('Mean Absolute Error')\n",
    "plt.legend()\n",
    "plt.title('Training and Validation MAE')\n",
    "plt.show()"
   ]
  },
  {
   "cell_type": "code",
   "execution_count": null,
   "id": "068257a6-1173-40ec-aba9-58c3f9af06fa",
   "metadata": {},
   "outputs": [],
   "source": [
    "# Dự đoán từ mô hình RNN\n",
    "y_pred_ann = best_model.predict(X_test)\n",
    "\n",
    "# Tính MAE, MSE, RMSE\n",
    "mae_ann = mean_absolute_error(y_test, y_pred_ann)\n",
    "mse_ann = mean_squared_error(y_test, y_pred_ann)\n",
    "rmse_ann = math.sqrt(mse_ann)\n",
    "\n",
    "# In kết quả\n",
    "print(f\"RNN - MAE: {mae_ann}\")\n",
    "print(f\"RNN - MSE: {mse_ann}\")\n",
    "print(f\"RNN - RMSE: {rmse_ann}\")"
   ]
  },
  {
   "cell_type": "code",
   "execution_count": null,
   "id": "05872dd3-5dd9-49dc-a412-6b69a259d2d4",
   "metadata": {},
   "outputs": [],
   "source": [
    "y_pred_ann = model_ann.predict(X_test)\n",
    "\n",
    "import matplotlib.pyplot as plt\n",
    "# Plot Actual vs Predicted (ANN)\n",
    "plt.figure(figsize=(12, 6))\n",
    "plt.plot(y_test.values[:200], label='Actual', color='blue')\n",
    "plt.plot(y_pred_ann[:200], label='ANN Predicted', linestyle='--', color='orange')\n",
    "plt.title('Actual vs ANN dự đoán')\n",
    "plt.xlabel('Mẫu')\n",
    "plt.ylabel('CPU sử dụng')\n",
    "plt.legend()\n",
    "plt.grid()\n",
    "plt.show()"
   ]
  }
 ],
 "metadata": {
  "kernelspec": {
   "display_name": "Python 3 (ipykernel)",
   "language": "python",
   "name": "python3"
  },
  "language_info": {
   "codemirror_mode": {
    "name": "ipython",
    "version": 3
   },
   "file_extension": ".py",
   "mimetype": "text/x-python",
   "name": "python",
   "nbconvert_exporter": "python",
   "pygments_lexer": "ipython3",
   "version": "3.9.20"
  }
 },
 "nbformat": 4,
 "nbformat_minor": 5
}
