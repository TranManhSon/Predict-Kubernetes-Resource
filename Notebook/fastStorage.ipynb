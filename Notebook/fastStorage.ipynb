{
 "cells": [
  {
   "cell_type": "markdown",
   "id": "2f2c4c5d-d10c-460d-8deb-379ba7f1f4e5",
   "metadata": {},
   "source": [
    "# Preprocessing data"
   ]
  },
  {
   "cell_type": "markdown",
   "id": "4d0c256c-157f-4c3b-a00f-1f0b09a73a7f",
   "metadata": {},
   "source": [
    "## Filter file"
   ]
  },
  {
   "cell_type": "code",
   "execution_count": null,
   "id": "64a67e63-f8f0-48c8-97fa-e05abf06c4cd",
   "metadata": {},
   "outputs": [],
   "source": [
    "import glob\n",
    "import csv\n",
    "import os\n",
    "import pandas as pd\n",
    "\n",
    "path = '/content/drive/MyDrive/KLTN_2024/Dataset/fastStorage/*.csv'\n",
    "output_path = \"/content/drive/MyDrive/KLTN_2024/Dataset/folder_fast/\"\n",
    "\n",
    "count = 0\n",
    "for fname in glob.glob(path):\n",
    "    with open(fname, 'r') as infh:\n",
    "        next(infh)\n",
    "        reader = csv.reader(infh, delimiter=';')\n",
    "\n",
    "        label = fname.split('/')[-1].split('.')[0]\n",
    "\n",
    "        timestamp_list = []\n",
    "        cpu_core_list = []\n",
    "        cpu_usage_list = []\n",
    "\n",
    "        for row in reader:\n",
    "            timestamp = int(row[0])\n",
    "            cpu_cores = int(row[1])\n",
    "            cpu_usage = float(row[4])\n",
    "\n",
    "            timestamp_list.append(timestamp)\n",
    "            cpu_core_list.append(cpu_cores)\n",
    "            cpu_usage_list.append(cpu_usage)\n",
    "\n",
    "        print(cpu_core_list[0])\n",
    "\n",
    "        if (cpu_core_list[0] == 0):\n",
    "            print(f\"Skip this {fname} file because CPU core = 0\")\n",
    "            continue  \n",
    "\n",
    "        # Create a DataFrame\n",
    "        df = pd.DataFrame({\n",
    "            'Timestamp': timestamp_list,\n",
    "            'CPU Cores': cpu_core_list,\n",
    "            'CPU Usage (%)': cpu_usage_list,\n",
    "            'Label': [label] * len(timestamp_list)\n",
    "        })\n",
    "\n",
    "        df['CPU (m)'] = df['CPU Usage (%)'] * df['CPU Cores'] * 10\n",
    "        df.drop('CPU Usage (%)', axis=1, inplace=True)\n",
    "        df.drop('CPU Cores', axis=1, inplace=True)\n",
    "\n",
    "        output = open(output_path + fname.split('/')[-1], \"w+\")\n",
    "        df.to_csv(output, index=False)\n",
    "        count += 1\n",
    "        print(f\"Data saved to {output}\")\n",
    "print('Sum of files hanled: ' + str(count))"
   ]
  },
  {
   "cell_type": "markdown",
   "id": "0faeab82-6903-4de1-a03b-84ac085a9839",
   "metadata": {},
   "source": [
    "## Concat all file to one"
   ]
  },
  {
   "cell_type": "code",
   "execution_count": null,
   "id": "f9b8188b-a2d6-404d-9c19-174c333000e9",
   "metadata": {},
   "outputs": [],
   "source": [
    "import os\n",
    "import pandas as pd\n",
    "import glob\n",
    "\n",
    "output_path = \"/content/drive/MyDrive/KLTN_2024/Dataset/folder_fast/\"\n",
    "\n",
    "# list and sort csv file\n",
    "csv_files = sorted(glob.glob(os.path.join(output_path, '*.csv')))\n",
    "print(f\"Found {len(csv_files)} file CSV.\")\n",
    "\n",
    "# Read and concat all csv file to a Data Frame\n",
    "df_list = [pd.read_csv(file) for file in csv_files]\n",
    "combined_df = pd.concat(df_list, ignore_index=True)\n",
    "\n",
    "# Save new data to file\n",
    "combined_df.to_csv('/content/drive/MyDrive/KLTN_2024/Dataset/1147_vm_metric.csv', index=False)\n",
    "\n",
    "# Check data\n",
    "print(combined_df.head())\n",
    "print(f\"Data has {combined_df.shape[0]} rows và {combined_df.shape[1]} cols.\")"
   ]
  },
  {
   "cell_type": "markdown",
   "id": "abdd156f-2f6e-46bb-91b0-7ef4501616b2",
   "metadata": {},
   "source": [
    "## Sort and create history data "
   ]
  },
  {
   "cell_type": "code",
   "execution_count": null,
   "id": "aac99dbb-0a47-4c47-b42a-963b09ba856f",
   "metadata": {},
   "outputs": [],
   "source": [
    "import pandas as pd\n",
    "import numpy as np\n",
    "from sklearn.model_selection import train_test_split\n",
    "from sklearn.preprocessing import MinMaxScaler\n",
    "import matplotlib.pyplot as plt\n",
    "from sklearn.preprocessing import LabelEncoder\n",
    "\n",
    "file_path = '/content/drive/MyDrive/KLTN_2024/Dataset/1147_vm_metric.csv'\n",
    "\n",
    "df = pd.read_csv(file_path)\n",
    "\n",
    "def prepare_dataframe(df, n_steps):\n",
    "    dataframes = []\n",
    "    # group by label\n",
    "    for label, group in df.groupby('Label'):\n",
    "        # group by timestamp\n",
    "        group = group.sort_values('Timestamp')\n",
    "        group.set_index('Timestamp', inplace=True)\n",
    "\n",
    "        # Create lockback cols\n",
    "        for i in range(1, n_steps + 1):\n",
    "            group[f'Close(t-{i})'] = group['CPU (m)'].shift(i)\n",
    "\n",
    "        # delete NaN value by shift\n",
    "        group.dropna(inplace=True)\n",
    "        dataframes.append(group)\n",
    "\n",
    "    return pd.concat(dataframes)\n",
    "\n",
    "# Set loockback value\n",
    "lookback = 5\n",
    "shifted_df = prepare_dataframe(df, lookback)\n",
    "\n",
    "# List required cols\n",
    "required_columns = ['Timestamp', 'Label', 'CPU (m)', 'Close(t-1)', 'Close(t-2)', 'Close(t-3)', 'Close(t-4)', 'Close(t-5)']\n",
    "\n",
    "# Get cols form DataFrame\n",
    "final_df = shifted_df.reset_index()[required_columns]\n",
    "\n",
    "# Change name of cols\n",
    "final_df.columns = ['Timestamp', 'Label', 'CPU(t)', 'CPU(t-1)', 'CPU(t-2)', 'CPU(t-3)', 'CPU(t-4)', 'CPU(t-5)']\n",
    "\n",
    "# Save file to xlsx\n",
    "df_sorted = final_df.sort_values(by='Timestamp', ascending=True).reset_index(drop=True)\n",
    "output_file_path_final = '/content/drive/MyDrive/KLTN_2024/Dataset/final_data_vm_metric.csv'\n",
    "df_sorted.to_csv(output_file_path_final, index=False)"
   ]
  },
  {
   "cell_type": "markdown",
   "id": "d7fed6ec-9d2d-4e69-ab6b-f51d0e5b8698",
   "metadata": {},
   "source": [
    "## Set index"
   ]
  },
  {
   "cell_type": "code",
   "execution_count": null,
   "id": "3580567c-e529-401d-8ee1-7ef542b9a554",
   "metadata": {},
   "outputs": [],
   "source": [
    "final_df.set_index(['Timestamp', 'Label'], inplace=True)"
   ]
  },
  {
   "cell_type": "markdown",
   "id": "7cf15e15-ed1a-403c-b965-f98fec4b386d",
   "metadata": {},
   "source": [
    "## Feature/Target and split datasets"
   ]
  },
  {
   "cell_type": "code",
   "execution_count": null,
   "id": "c5a44a22-2c04-4294-8007-42436b8b9db0",
   "metadata": {},
   "outputs": [],
   "source": [
    "# X and y\n",
    "X = final_df[['CPU(t-1)', 'CPU(t-2)', 'CPU(t-3)', 'CPU(t-4)', 'CPU(t-5)']]\n",
    "y = final_df['CPU(t)']\n",
    "\n",
    "# split train/test\n",
    "X_train, X_test, y_train, y_test = train_test_split(X, y, test_size=0.2, shuffle=False)"
   ]
  },
  {
   "cell_type": "markdown",
   "id": "d01ff672-1333-4101-9570-38be1bdf0aa5",
   "metadata": {},
   "source": [
    "## Scaler"
   ]
  },
  {
   "cell_type": "code",
   "execution_count": null,
   "id": "8494a285-6ec5-4bee-a20e-c567f72ea621",
   "metadata": {},
   "outputs": [],
   "source": [
    "from sklearn.preprocessing import StandardScaler\n",
    "\n",
    "scaler = StandardScaler()\n",
    "X_train = scaler.fit_transform(X_train)\n",
    "X_test = scaler.transform(X_test)"
   ]
  },
  {
   "cell_type": "markdown",
   "id": "1d94e1e9-fc10-454a-9683-00a2daa2cc62",
   "metadata": {},
   "source": [
    "## Reshape input for lstm ann"
   ]
  },
  {
   "cell_type": "code",
   "execution_count": null,
   "id": "f55cad90-329e-4f5a-946e-59d50d953bd0",
   "metadata": {},
   "outputs": [],
   "source": [
    "X_train_reshape = np.expand_dims(X_train, axis=1)\n",
    "X_test_reshape = np.expand_dims(X_test, axis=1)"
   ]
  },
  {
   "cell_type": "markdown",
   "id": "19356e08-e583-4bd2-b01a-f8607e795922",
   "metadata": {},
   "source": [
    "# Training and Tuning"
   ]
  },
  {
   "cell_type": "markdown",
   "id": "02a3e220-aad9-49a2-b0c8-905b4fdd7c6a",
   "metadata": {},
   "source": [
    "## Define model"
   ]
  },
  {
   "cell_type": "code",
   "execution_count": null,
   "id": "bf6371c2-c411-4aef-bb84-bbb91f17c789",
   "metadata": {},
   "outputs": [],
   "source": [
    "!pip install scikeras\n",
    "from sklearn.model_selection import train_test_split\n",
    "from tensorflow.keras.models import Sequential\n",
    "from tensorflow.keras.layers import Dense, LSTM, SimpleRNN, Dropout\n",
    "from tensorflow.keras.optimizers import Adam\n",
    "from scikeras.wrappers import KerasRegressor\n",
    "from sklearn.model_selection import GridSearchCV\n",
    "\n",
    "def build_ann_model(hidden_units, learning_rate):\n",
    "    model = Sequential([\n",
    "        Dense(hidden_units, input_dim=X_train.shape[1], activation='relu'),\n",
    "        Dense(hidden_units // 2, activation='relu'),\n",
    "        Dense(1)\n",
    "    ])\n",
    "    model.compile(optimizer=Adam(learning_rate=learning_rate), loss='mse', metrics=['mae'])\n",
    "    return model\n",
    "\n",
    "def build_lstm_model(hidden_units, learning_rate):\n",
    "    model = Sequential([\n",
    "        LSTM(hidden_units, input_shape=(X_train_reshape.shape[1], X_train_reshape.shape[2]), return_sequences=True),\n",
    "        Dropout(0.2),\n",
    "        LSTM(hidden_units // 2, return_sequences=False),\n",
    "        Dense(1)\n",
    "    ])\n",
    "    model.compile(optimizer=Adam(learning_rate=learning_rate), loss='mse', metrics=['mae'])\n",
    "    return model\n",
    "\n",
    "def build_rnn_model(hidden_units, learning_rate):\n",
    "    model = Sequential([\n",
    "        SimpleRNN(hidden_units, input_shape=(X_train_reshape.shape[1], X_train_reshape.shape[2]), return_sequences=True),\n",
    "        Dropout(0.2),\n",
    "        SimpleRNN(hidden_units // 2, return_sequences=False),\n",
    "        Dense(1)\n",
    "    ])\n",
    "    model.compile(optimizer=Adam(learning_rate=learning_rate), loss='mse', metrics=['mae'])\n",
    "    return model"
   ]
  },
  {
   "cell_type": "markdown",
   "id": "eef0d06e-0a9e-467b-b002-26a9363aed08",
   "metadata": {},
   "source": [
    "## ANN => [64, 0.01, 32, 50]"
   ]
  },
  {
   "cell_type": "code",
   "execution_count": null,
   "id": "4fa17aa4-4c6e-4e66-8090-878353067971",
   "metadata": {},
   "outputs": [],
   "source": [
    "param_grid_ann = {\n",
    "    'hidden_units': [32, 64, 128],\n",
    "    'learning_rate': [0.01, 0.001],\n",
    "    'batch_size': [32, 64],\n",
    "    'epochs': [20, 50]\n",
    "}\n",
    "\n",
    "# Wrapper for ANN\n",
    "model_ann = KerasRegressor(build_fn=build_ann_model, verbose=1, **param_grid_ann)\n",
    "grid_ann = GridSearchCV(estimator=model_ann, param_grid=param_grid_ann, scoring='neg_mean_absolute_error', cv=3)\n",
    "grid_ann.fit(X_train, y_train)\n",
    "print(f\"Best ANN Params: {grid_ann.best_params_}\")\n",
    "print(f\"Best ANN Score: {-grid_ann.best_score_}\")"
   ]
  },
  {
   "cell_type": "markdown",
   "id": "d39c02bb-f9ef-4345-8b50-ccd42903fd38",
   "metadata": {},
   "source": [
    "## RNN => [64, 0.001, 64, 50]"
   ]
  },
  {
   "cell_type": "code",
   "execution_count": null,
   "id": "80c95e37-e86c-4cd6-aed0-7d79d575acd2",
   "metadata": {},
   "outputs": [],
   "source": [
    "param_grid_rnn = {\n",
    "    'hidden_units': [32, 64],\n",
    "    'learning_rate': [0.01, 0.001],\n",
    "    'batch_size': [32, 64],\n",
    "    'epochs': [20, 50]\n",
    "}\n",
    "\n",
    "# Wrapper for RNN\n",
    "model_rnn = KerasRegressor(build_fn=build_rnn_model, verbose=1, **param_grid_rnn)\n",
    "grid_rnn = GridSearchCV(estimator=model_rnn, param_grid=param_grid_rnn, scoring='neg_mean_absolute_error', cv=3)\n",
    "grid_rnn.fit(X_train_reshape, y_train)\n",
    "print(f\"Best RNN Params: {grid_rnn.best_params_}\")\n",
    "print(f\"Best RNN Score: {-grid_rnn.best_score_}\")"
   ]
  },
  {
   "cell_type": "markdown",
   "id": "70928d9a-e88d-480b-9e5b-bf6086f0a25f",
   "metadata": {},
   "source": [
    "## LSTM => [64, 0.001, 64, 20]"
   ]
  },
  {
   "cell_type": "code",
   "execution_count": null,
   "id": "7bbdd132-6f25-4774-b911-1328ad4b6628",
   "metadata": {},
   "outputs": [],
   "source": [
    "param_grid_lstm = {\n",
    "    'hidden_units': [32, 64],\n",
    "    'learning_rate': [0.01, 0.001],\n",
    "    'batch_size': [32, 64],\n",
    "    'epochs': [20, 50]\n",
    "}\n",
    "\n",
    "model_lstm = KerasRegressor(build_fn=build_lstm_model, verbose=1, **param_grid_lstm)\n",
    "grid_lstm = GridSearchCV(estimator=model_lstm, param_grid=param_grid_lstm, scoring='neg_mean_absolute_error', cv=3)\n",
    "grid_lstm.fit(X_train_reshape, y_train)\n",
    "print(f\"Best LSTM Params: {grid_lstm.best_params_}\")\n",
    "print(f\"Best LSTM Score: {-grid_lstm.best_score_}\")"
   ]
  },
  {
   "cell_type": "markdown",
   "id": "1bf103cb-4bae-433e-80f7-78109a468f2e",
   "metadata": {},
   "source": [
    "# Evaluation"
   ]
  },
  {
   "cell_type": "code",
   "execution_count": null,
   "id": "48ed2bee-e764-497a-9535-ea00b025ea56",
   "metadata": {},
   "outputs": [],
   "source": [
    "import numpy as np\n",
    "from sklearn.metrics import mean_absolute_error, mean_squared_error\n",
    "import math\n",
    "\n",
    "y_pred_rnn = model_rnn.predict(X_test_reshape)\n",
    "\n",
    "mae_rnn = mean_absolute_error(y_test, y_pred_rnn)\n",
    "mse_rnn = mean_squared_error(y_test, y_pred_rnn)\n",
    "rmse_rnn = math.sqrt(mse_rnn)\n",
    "\n",
    "print(f\"RNN - MAE: {mae_rnn}\")\n",
    "print(f\"RNN - MSE: {mse_rnn}\")\n",
    "print(f\"RNN - RMSE: {rmse_rnn}\")"
   ]
  },
  {
   "cell_type": "code",
   "execution_count": null,
   "id": "b7a40fca-9d0a-49da-9567-bbceaf87cb28",
   "metadata": {},
   "outputs": [],
   "source": [
    "y_pred_ann = model_ann.predict(X_test)\n",
    "\n",
    "mae_ann = mean_absolute_error(y_test, y_pred_ann)\n",
    "mse_ann = mean_squared_error(y_test, y_pred_ann)\n",
    "rmse_ann = math.sqrt(mse_ann)\n",
    "\n",
    "print(f\"ANN - MAE: {mae_ann}\")\n",
    "print(f\"ANN - MSE: {mse_ann}\")\n",
    "print(f\"ANN - RMSE: {rmse_ann}\")"
   ]
  },
  {
   "cell_type": "code",
   "execution_count": null,
   "id": "d5a26190-2f5f-443a-aeb3-15bcaf93f5ed",
   "metadata": {},
   "outputs": [],
   "source": [
    "y_pred_lstm = model_lstm.predict(X_test_reshape)\n",
    "\n",
    "mae_lstm = mean_absolute_error(y_test, y_pred_lstm)\n",
    "mse_lstm = mean_squared_error(y_test, y_pred_lstm)\n",
    "rmse_lstm = math.sqrt(mse_lstm)\n",
    "\n",
    "print(f\"LSTM - MAE: {mae_lstm}\")\n",
    "print(f\"LSTM - MSE: {mse_lstm}\")\n",
    "print(f\"LSTM - RMSE: {rmse_lstm}\")\n"
   ]
  },
  {
   "cell_type": "markdown",
   "id": "e435d1fd-5888-4aa4-a776-62662605acfc",
   "metadata": {},
   "source": [
    "# Visualize"
   ]
  },
  {
   "cell_type": "markdown",
   "id": "05a60338-e018-4d7b-aea7-8c35343f556b",
   "metadata": {},
   "source": [
    "## Visualize MAE MSE RMSE"
   ]
  },
  {
   "cell_type": "code",
   "execution_count": null,
   "id": "fbe33bfa-f997-472a-a3be-9dda27c2a54e",
   "metadata": {},
   "outputs": [],
   "source": [
    "metrics = ['MAE', 'MSE', 'RMSE']\n",
    "rnn_metrics = [mae_rnn, mse_rnn, rmse_rnn]\n",
    "ann_metrics = [mae_ann, mse_ann, rmse_ann]\n",
    "lstm_metrics = [mae_lstm, mse_lstm, rmse_lstm]\n",
    "\n",
    "# Plot\n",
    "x = np.arange(len(metrics)) \n",
    "width = 0.2\n",
    "\n",
    "fig, ax = plt.subplots(figsize=(10, 6))\n",
    "\n",
    "rects1 = ax.bar(x - width, rnn_metrics, width, label='RNN')\n",
    "rects2 = ax.bar(x, ann_metrics, width, label='ANN')\n",
    "rects3 = ax.bar(x + width, lstm_metrics, width, label='LSTM')\n",
    "\n",
    "ax.set_ylabel('Giá trị')\n",
    "ax.set_title('So sánh mô hình RNN, ANN, LSTM')\n",
    "ax.set_xticks(x)\n",
    "ax.set_xticklabels(metrics)\n",
    "ax.legend()\n",
    "\n",
    "plt.show()"
   ]
  },
  {
   "cell_type": "markdown",
   "id": "e3906fd3-7d6f-47a0-88e4-e042cfa39ce3",
   "metadata": {},
   "source": [
    "## Visualize predict with actual data"
   ]
  },
  {
   "cell_type": "code",
   "execution_count": null,
   "id": "427a1304-6d6c-4de8-99ff-f45120b76fea",
   "metadata": {},
   "outputs": [],
   "source": [
    "### RNN\n",
    "import matplotlib.pyplot as plt\n",
    "y_pred_rnn = model_rnn.predict(X_test_reshape)\n",
    "\n",
    "plt.figure(figsize=(12, 6))\n",
    "plt.plot(y_test.values[:200], label='Actual', color='blue')\n",
    "plt.plot(y_pred_rnn[:200], label='RNN Predicted', linestyle='--', color='purple')\n",
    "plt.title('Actual vs RNN dự đoán')\n",
    "plt.xlabel('Mẫu')\n",
    "plt.ylabel('CPU Sử dụng')\n",
    "plt.legend()\n",
    "plt.grid()\n",
    "plt.show()\n"
   ]
  },
  {
   "cell_type": "code",
   "execution_count": null,
   "id": "3ff1c2e8-a0b1-45eb-a9f6-194bef7bb889",
   "metadata": {},
   "outputs": [],
   "source": [
    "# ANN\n",
    "y_pred_ann = model_ann.predict(X_test)\n",
    "\n",
    "plt.figure(figsize=(12, 6))\n",
    "plt.plot(y_test.values[:200], label='Actual', color='blue')\n",
    "plt.plot(y_pred_ann[:200], label='ANN Predicted', linestyle='--', color='orange')\n",
    "plt.title('Actual vs ANN dự đoán')\n",
    "plt.xlabel('Mẫu')\n",
    "plt.ylabel('CPU sử dụng')\n",
    "plt.legend()\n",
    "plt.grid()\n",
    "plt.show()"
   ]
  },
  {
   "cell_type": "code",
   "execution_count": null,
   "id": "062687c1-8372-448a-bd63-dda6007b4fdc",
   "metadata": {},
   "outputs": [],
   "source": [
    "## LSTM\n",
    "y_pred_lstm = model_lstm.predict(X_test_reshape)\n",
    "\n",
    "# Plot Actual vs Predicted (LSTM)\n",
    "plt.figure(figsize=(12, 6))\n",
    "plt.plot(y_test.values[:200], label='Actual', color='blue')\n",
    "plt.plot(y_pred_lstm[:200], label='LSTM Predicted', linestyle='--', color='green')\n",
    "plt.title('Actual vs LSTM dự đoán')\n",
    "plt.xlabel('Mẫu')\n",
    "plt.ylabel('CPU sử dụng')\n",
    "plt.legend()\n",
    "plt.grid()\n",
    "plt.show()"
   ]
  }
 ],
 "metadata": {
  "kernelspec": {
   "display_name": "Python 3 (ipykernel)",
   "language": "python",
   "name": "python3"
  },
  "language_info": {
   "codemirror_mode": {
    "name": "ipython",
    "version": 3
   },
   "file_extension": ".py",
   "mimetype": "text/x-python",
   "name": "python",
   "nbconvert_exporter": "python",
   "pygments_lexer": "ipython3",
   "version": "3.9.20"
  }
 },
 "nbformat": 4,
 "nbformat_minor": 5
}
